{
 "cells": [
  {
   "cell_type": "code",
   "execution_count": 2,
   "id": "e0cfcbfa",
   "metadata": {},
   "outputs": [],
   "source": [
    "#Introduction\n",
    "#importing packages & loading data\n",
    "import pandas as pd\n",
    "import numpy as np\n",
    "import matplotlib as plt\n",
    "import seaborn as sns\n",
    "\n",
    "boston_df=pd.read_csv(\"./bostonairbnb/listings.csv\")\n",
    "seattle_df=pd.read_csv(\"./seattleairbnb/listings.csv\")"
   ]
  },
  {
   "cell_type": "code",
   "execution_count": 3,
   "id": "07e3a4a9",
   "metadata": {},
   "outputs": [
    {
     "data": {
      "text/plain": [
       "(7403, 96)"
      ]
     },
     "execution_count": 3,
     "metadata": {},
     "output_type": "execute_result"
    }
   ],
   "source": [
    "#getting both csv listings and concat\n",
    "boston_df[\"dataframe\"]=\"Boston\"\n",
    "seattle_df[\"dataframe\"]=\"Seattle\"\n",
    "bs_df=pd.concat([boston_df, seattle_df])\n",
    "bs_df.shape"
   ]
  },
  {
   "cell_type": "code",
   "execution_count": 4,
   "id": "ed7c404a",
   "metadata": {},
   "outputs": [
    {
     "data": {
      "text/plain": [
       "Seattle    3818\n",
       "Boston     3585\n",
       "Name: dataframe, dtype: int64"
      ]
     },
     "execution_count": 4,
     "metadata": {},
     "output_type": "execute_result"
    }
   ],
   "source": [
    "#making sure there are no duplicates\n",
    "bs_df=bs_df.drop_duplicates(subset=['id'])\n",
    "#there aren't\n",
    "bs_df.dataframe.value_counts()"
   ]
  },
  {
   "cell_type": "code",
   "execution_count": 5,
   "id": "4f6c5a41",
   "metadata": {},
   "outputs": [],
   "source": [
    "#idk if I need these yet. here's two different dfs based on cat or num variables. this may help if with analyses \n",
    "bs_df_num=bs_df.select_dtypes(exclude=['object'])\n",
    "bs_df_obj=bs_df.select_dtypes(include=['object'])"
   ]
  },
  {
   "cell_type": "code",
   "execution_count": 6,
   "id": "ab50d77f",
   "metadata": {},
   "outputs": [
    {
     "name": "stdout",
     "output_type": "stream",
     "text": [
      "<class 'pandas.core.frame.DataFrame'>\n",
      "Int64Index: 7403 entries, 0 to 3817\n",
      "Data columns (total 30 columns):\n",
      " #   Column                          Non-Null Count  Dtype  \n",
      "---  ------                          --------------  -----  \n",
      " 0   id                              7403 non-null   int64  \n",
      " 1   scrape_id                       7403 non-null   int64  \n",
      " 2   host_id                         7403 non-null   int64  \n",
      " 3   host_listings_count             7401 non-null   float64\n",
      " 4   host_total_listings_count       7401 non-null   float64\n",
      " 5   latitude                        7403 non-null   float64\n",
      " 6   longitude                       7403 non-null   float64\n",
      " 7   accommodates                    7403 non-null   int64  \n",
      " 8   bathrooms                       7373 non-null   float64\n",
      " 9   bedrooms                        7387 non-null   float64\n",
      " 10  beds                            7393 non-null   float64\n",
      " 11  square_feet                     153 non-null    float64\n",
      " 12  guests_included                 7403 non-null   int64  \n",
      " 13  minimum_nights                  7403 non-null   int64  \n",
      " 14  maximum_nights                  7403 non-null   int64  \n",
      " 15  availability_30                 7403 non-null   int64  \n",
      " 16  availability_60                 7403 non-null   int64  \n",
      " 17  availability_90                 7403 non-null   int64  \n",
      " 18  availability_365                7403 non-null   int64  \n",
      " 19  number_of_reviews               7403 non-null   int64  \n",
      " 20  review_scores_rating            5943 non-null   float64\n",
      " 21  review_scores_accuracy          5922 non-null   float64\n",
      " 22  review_scores_cleanliness       5932 non-null   float64\n",
      " 23  review_scores_checkin           5925 non-null   float64\n",
      " 24  review_scores_communication     5934 non-null   float64\n",
      " 25  review_scores_location          5926 non-null   float64\n",
      " 26  review_scores_value             5926 non-null   float64\n",
      " 27  license                         0 non-null      float64\n",
      " 28  calculated_host_listings_count  7403 non-null   int64  \n",
      " 29  reviews_per_month               6020 non-null   float64\n",
      "dtypes: float64(17), int64(13)\n",
      "memory usage: 1.8 MB\n",
      "<class 'pandas.core.frame.DataFrame'>\n",
      "Int64Index: 7403 entries, 0 to 3817\n",
      "Data columns (total 66 columns):\n",
      " #   Column                            Non-Null Count  Dtype \n",
      "---  ------                            --------------  ----- \n",
      " 0   listing_url                       7403 non-null   object\n",
      " 1   last_scraped                      7403 non-null   object\n",
      " 2   name                              7403 non-null   object\n",
      " 3   summary                           7083 non-null   object\n",
      " 4   space                             5777 non-null   object\n",
      " 5   description                       7403 non-null   object\n",
      " 6   experiences_offered               7403 non-null   object\n",
      " 7   neighborhood_overview             4956 non-null   object\n",
      " 8   notes                             3822 non-null   object\n",
      " 9   transit                           5179 non-null   object\n",
      " 10  access                            2096 non-null   object\n",
      " 11  interaction                       2031 non-null   object\n",
      " 12  house_rules                       2393 non-null   object\n",
      " 13  thumbnail_url                     6484 non-null   object\n",
      " 14  medium_url                        6484 non-null   object\n",
      " 15  picture_url                       7403 non-null   object\n",
      " 16  xl_picture_url                    6484 non-null   object\n",
      " 17  host_url                          7403 non-null   object\n",
      " 18  host_name                         7401 non-null   object\n",
      " 19  host_since                        7401 non-null   object\n",
      " 20  host_location                     7384 non-null   object\n",
      " 21  host_about                        5235 non-null   object\n",
      " 22  host_response_time                6409 non-null   object\n",
      " 23  host_response_rate                6409 non-null   object\n",
      " 24  host_acceptance_rate              6159 non-null   object\n",
      " 25  host_is_superhost                 7401 non-null   object\n",
      " 26  host_thumbnail_url                7401 non-null   object\n",
      " 27  host_picture_url                  7401 non-null   object\n",
      " 28  host_neighbourhood                6764 non-null   object\n",
      " 29  host_verifications                7403 non-null   object\n",
      " 30  host_has_profile_pic              7401 non-null   object\n",
      " 31  host_identity_verified            7401 non-null   object\n",
      " 32  street                            7403 non-null   object\n",
      " 33  neighbourhood                     6444 non-null   object\n",
      " 34  neighbourhood_cleansed            7403 non-null   object\n",
      " 35  neighbourhood_group_cleansed      3818 non-null   object\n",
      " 36  city                              7401 non-null   object\n",
      " 37  state                             7403 non-null   object\n",
      " 38  zipcode                           7358 non-null   object\n",
      " 39  market                            7389 non-null   object\n",
      " 40  smart_location                    7403 non-null   object\n",
      " 41  country_code                      7403 non-null   object\n",
      " 42  country                           7403 non-null   object\n",
      " 43  is_location_exact                 7403 non-null   object\n",
      " 44  property_type                     7399 non-null   object\n",
      " 45  room_type                         7403 non-null   object\n",
      " 46  bed_type                          7403 non-null   object\n",
      " 47  amenities                         7403 non-null   object\n",
      " 48  price                             7403 non-null   object\n",
      " 49  weekly_price                      2901 non-null   object\n",
      " 50  monthly_price                     2405 non-null   object\n",
      " 51  security_deposit                  3208 non-null   object\n",
      " 52  cleaning_fee                      5266 non-null   object\n",
      " 53  extra_people                      7403 non-null   object\n",
      " 54  calendar_updated                  7403 non-null   object\n",
      " 55  has_availability                  3818 non-null   object\n",
      " 56  calendar_last_scraped             7403 non-null   object\n",
      " 57  first_review                      6020 non-null   object\n",
      " 58  last_review                       6020 non-null   object\n",
      " 59  requires_license                  7403 non-null   object\n",
      " 60  jurisdiction_names                3818 non-null   object\n",
      " 61  instant_bookable                  7403 non-null   object\n",
      " 62  cancellation_policy               7403 non-null   object\n",
      " 63  require_guest_profile_picture     7403 non-null   object\n",
      " 64  require_guest_phone_verification  7403 non-null   object\n",
      " 65  dataframe                         7403 non-null   object\n",
      "dtypes: object(66)\n",
      "memory usage: 3.8+ MB\n"
     ]
    }
   ],
   "source": [
    "#confirming only numerical dtypes\n",
    "bs_df_num.info()\n",
    "#confirming only categorical dtypes\n",
    "bs_df_obj.info()"
   ]
  },
  {
   "cell_type": "code",
   "execution_count": 17,
   "id": "4a6db660",
   "metadata": {
    "scrolled": true
   },
   "outputs": [
    {
     "name": "stdout",
     "output_type": "stream",
     "text": [
      "Null count 2    Look at this: host_listings_count\n",
      "Null count 2    Look at this: host_total_listings_count\n",
      "Null count 30    Look at this: bathrooms\n",
      "Null count 16    Look at this: bedrooms\n",
      "Null count 10    Look at this: beds\n",
      "Null count 1460    Look at this: review_scores_rating\n",
      "Null count 1481    Look at this: review_scores_accuracy\n",
      "Null count 1471    Look at this: review_scores_cleanliness\n",
      "Null count 1478    Look at this: review_scores_checkin\n",
      "Null count 1469    Look at this: review_scores_communication\n",
      "Null count 1477    Look at this: review_scores_location\n",
      "Null count 1477    Look at this: review_scores_value\n",
      "Null count 1383    Look at this: reviews_per_month\n"
     ]
    }
   ],
   "source": [
    "def finding_nulls(df):\n",
    "    global dropped_df\n",
    "    col_list=[]\n",
    "    for col in df:\n",
    "        if df[col].isnull().sum() == 0:\n",
    "            continue\n",
    "        elif df[col].isnull().sum()/df.shape[0] > 0.5:\n",
    "            col_list.append(col)\n",
    "        else:\n",
    "            print(\"Null count \"+ str(df[col].isnull().sum())+ \"    Look at this: \" + col )\n",
    "    dropped_df=df.drop(columns=col_list)\n",
    "finding_nulls(bs_df_num) \n",
    "bs_df_num= dropped_df"
   ]
  },
  {
   "cell_type": "code",
   "execution_count": 25,
   "id": "42a45eec",
   "metadata": {},
   "outputs": [
    {
     "data": {
      "text/plain": [
       "32.2141023909226"
      ]
     },
     "execution_count": 25,
     "metadata": {},
     "output_type": "execute_result"
    }
   ],
   "source": [
    "#put in mode, mean, median\n",
    "#do that index thing again for review_per_month.notnull & review_sores_rating.isnull()\n",
    "bs_df_num.host_listings_count.mean()"
   ]
  },
  {
   "cell_type": "code",
   "execution_count": 24,
   "id": "7f76118b",
   "metadata": {
    "scrolled": false
   },
   "outputs": [
    {
     "name": "stdout",
     "output_type": "stream",
     "text": [
      "This is the mean:32.2141023909226. This is the mode: 0    1.0\n",
      "dtype: float64. This is the median: 1.0\n",
      "This is the mean:32.2141023909226. This is the mode: 0    1.0\n",
      "dtype: float64. This is the median: 1.0\n",
      "This is the mean:1.240172902877212. This is the mode: 0    1.0\n",
      "dtype: float64. This is the median: 1.0\n",
      "This is the mean:1.6733756585168176. This is the mode: 0    1.0\n",
      "dtype: float64. This is the median: 1.0\n",
      "This is the mean:1.282047818451979. This is the mode: 0    1.0\n",
      "dtype: float64. This is the median: 1.0\n"
     ]
    },
    {
     "data": {
      "text/plain": [
       "id                                0\n",
       "scrape_id                         0\n",
       "host_id                           0\n",
       "host_listings_count               0\n",
       "host_total_listings_count         0\n",
       "latitude                          0\n",
       "longitude                         0\n",
       "accommodates                      0\n",
       "bathrooms                         0\n",
       "bedrooms                          0\n",
       "beds                              0\n",
       "guests_included                   0\n",
       "minimum_nights                    0\n",
       "maximum_nights                    0\n",
       "availability_30                   0\n",
       "availability_60                   0\n",
       "availability_90                   0\n",
       "availability_365                  0\n",
       "number_of_reviews                 0\n",
       "review_scores_rating              0\n",
       "review_scores_accuracy            0\n",
       "review_scores_cleanliness         0\n",
       "review_scores_checkin             0\n",
       "review_scores_communication       0\n",
       "review_scores_location            0\n",
       "review_scores_value               0\n",
       "calculated_host_listings_count    0\n",
       "reviews_per_month                 0\n",
       "dtype: int64"
      ]
     },
     "execution_count": 24,
     "metadata": {},
     "output_type": "execute_result"
    }
   ],
   "source": [
    "#I looked at the median mode, means of host_listings_count, host_total_listings_count, bathrooms, beds, bedrooms. 1 seems to be the\n",
    "#most reasonable option. Since most of the reviews options are dependent on whether or not the score exists, all related NaN are 0\n",
    "for info in [\"host_listings_count\", \"host_total_listings_count\", \"bathrooms\", \"beds\", \"bedrooms\"]:\n",
    "    print(\"This is the mean:{}. This is the mode: {}. This is the median: {}\".format(bs_df_num[info].mean(), bs_df_num[info].mode(), bs_df_num[info].median()))\n",
    "\n",
    "#this fills in the nulls based on the above information. \n",
    "bs_df_num=bs_df_num.fillna(value={\"host_listings_count\":1, \"host_total_listings_count\":1, \"bathrooms\":1, \"beds\":1, \"bedrooms\":1, \n",
    "                        \"review_scores_rating\":0, \"review_scores_accuracy\":0, \"review_scores_cleanliness\":0, \"review_scores_checkin\":0,\n",
    "                       \"review_scores_communication\":0, \"review_scores_location\":0, \"review_scores_value\":0, \"reviews_per_month\":0 })\n",
    "#making sure there are no more nulls\n",
    "bs_df_num.isna().sum()"
   ]
  },
  {
   "cell_type": "code",
   "execution_count": 33,
   "id": "ebca6a45",
   "metadata": {},
   "outputs": [
    {
     "name": "stdout",
     "output_type": "stream",
     "text": [
      "Null count 320    Look at this: summary\n",
      "Null count 1626    Look at this: space\n",
      "Null count 2447    Look at this: neighborhood_overview\n",
      "Null count 3581    Look at this: notes\n",
      "Null count 2224    Look at this: transit\n",
      "Null count 919    Look at this: thumbnail_url\n",
      "Null count 919    Look at this: medium_url\n",
      "Null count 919    Look at this: xl_picture_url\n",
      "Null count 2    Look at this: host_name\n",
      "Null count 2    Look at this: host_since\n",
      "Null count 19    Look at this: host_location\n",
      "Null count 2168    Look at this: host_about\n",
      "Null count 994    Look at this: host_response_time\n",
      "Null count 994    Look at this: host_response_rate\n",
      "Null count 1244    Look at this: host_acceptance_rate\n",
      "Null count 2    Look at this: host_is_superhost\n",
      "Null count 2    Look at this: host_thumbnail_url\n",
      "Null count 2    Look at this: host_picture_url\n",
      "Null count 639    Look at this: host_neighbourhood\n",
      "Null count 2    Look at this: host_has_profile_pic\n",
      "Null count 2    Look at this: host_identity_verified\n",
      "Null count 959    Look at this: neighbourhood\n",
      "Null count 3585    Look at this: neighbourhood_group_cleansed\n",
      "Null count 2    Look at this: city\n",
      "Null count 45    Look at this: zipcode\n",
      "Null count 14    Look at this: market\n",
      "Null count 4    Look at this: property_type\n",
      "Null count 2137    Look at this: cleaning_fee\n",
      "Null count 3585    Look at this: has_availability\n",
      "Null count 1383    Look at this: first_review\n",
      "Null count 1383    Look at this: last_review\n",
      "Null count 3585    Look at this: jurisdiction_names\n"
     ]
    }
   ],
   "source": [
    "finding_nulls(bs_df_obj)\n",
    "bs_df_obj=dropped_df\n",
    "bs_df_obj[\"id\"]=bs_df_num[\"id\"]"
   ]
  },
  {
   "cell_type": "code",
   "execution_count": 72,
   "id": "c885727b",
   "metadata": {},
   "outputs": [
    {
     "data": {
      "text/plain": [
       "Seattle    3818\n",
       "Boston     3585\n",
       "Name: dataframe, dtype: int64"
      ]
     },
     "execution_count": 72,
     "metadata": {},
     "output_type": "execute_result"
    }
   ],
   "source": [
    "#bs_df_obj=bs_df_num.fillna(value={\n",
    "\n",
    "#fill in obj nulls. \n",
    "\n",
    "#interesting that 3585 same value for has_availability, jurisdiction_names, and neighborhooud_group_cleansed\n",
    "#this series shows that has_availability listing ids and jurisdictions_names ids have their nulls in common. Conclusion all nulls \n",
    "#are in common between these two.\n",
    "t1=pd.Series(bs_df_obj.id[bs_df_obj.has_availability.isnull()]== bs_df_obj.id[bs_df_obj.jurisdiction_names.isnull()]).value_counts()\n",
    "#Comparing jurisdiction_names and neighborhood_group_cleansed\n",
    "t2= pd.Series(bs_df_obj.id[bs_df_obj.neighbourhood_group_cleansed.isnull()]== bs_df_obj.id[bs_df_obj.jurisdiction_names.isnull()]).value_counts()\n",
    "#just in case there might be any reason has_availability doesn't match neighborhood_group_cleansed\n",
    "t3= pd.Series(bs_df_obj.id[bs_df_obj.neighbourhood_group_cleansed.isnull()]== bs_df_obj.id[bs_df_obj.has_availability.isnull()]).value_counts()\n",
    "t3\n",
    "#i wonder why these nulls correlate? \n",
    "dataframe_null=pd.Series(bs_df_obj.dataframe[bs_df_obj.has_availability.isnull()]).value_counts()\n",
    "dataframe_null\n",
    "#it looks like this information all came from the same original set of data. the Boston df. I wonder if there was a change in reporting\n",
    "#procedure\n",
    "#isnull=pd.Series(bs_df_obj.last_review[bs_df_obj.has_availability.isnull()])\n",
    "isnull.value_counts()\n",
    "notnull=pd.Series(bs_df_obj.last_review[bs_df_obj.has_availability.notnull()])\n",
    "#notnull.value_counts()\n",
    "#there is time overlap between last reviews, so it's unlikely to be the timing of the listing\n",
    "bs_df_obj.dataframe.value_counts()\n",
    "#all boston dataframe values are missing this information. likely the missing info is due to mismatching regulation\n",
    "\n",
    "bs_df_obj.cit\n",
    "#get correlatino going for the null values\n",
    "\n",
    "#add id to obj information"
   ]
  },
  {
   "cell_type": "code",
   "execution_count": null,
   "id": "720070f3",
   "metadata": {},
   "outputs": [],
   "source": []
  }
 ],
 "metadata": {
  "kernelspec": {
   "display_name": "Python 3 (ipykernel)",
   "language": "python",
   "name": "python3"
  },
  "language_info": {
   "codemirror_mode": {
    "name": "ipython",
    "version": 3
   },
   "file_extension": ".py",
   "mimetype": "text/x-python",
   "name": "python",
   "nbconvert_exporter": "python",
   "pygments_lexer": "ipython3",
   "version": "3.9.7"
  }
 },
 "nbformat": 4,
 "nbformat_minor": 5
}
